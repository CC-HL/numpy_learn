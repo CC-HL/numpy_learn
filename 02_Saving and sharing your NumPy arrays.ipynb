{
 "cells": [
  {
   "cell_type": "code",
   "execution_count": 1,
   "id": "bce00759-720a-42e3-813f-01957c1eaa2e",
   "metadata": {},
   "outputs": [
    {
     "name": "stdout",
     "output_type": "stream",
     "text": [
      "[0 1 2 3 4 5 6 7 8 9]\n",
      "[ 0  1  4  9 16 25 36 49 64 81]\n"
     ]
    }
   ],
   "source": [
    "import numpy as np\n",
    "\n",
    "x = np.arange(10) # 利用numpy。arange生成从0开始的10个numpy数组\n",
    "y = x ** 2 # 利用广播机制，进行平方\n",
    "print(x)\n",
    "print(y)"
   ]
  },
  {
   "cell_type": "code",
   "execution_count": 2,
   "id": "bc04749b-4b48-4cc9-809b-1ed256013bcb",
   "metadata": {},
   "outputs": [],
   "source": [
    "np.savez(\"x_y-squared.npz\", x_axis=x, y_axis=y) \n",
    "# np.savez(),将目标数组存为.npz，其中x_axis，y_axis存入后数组的名称，方便后去读取"
   ]
  },
  {
   "cell_type": "code",
   "execution_count": 3,
   "id": "fd3e737b-2989-4448-9384-8db1d0ab1bdf",
   "metadata": {},
   "outputs": [],
   "source": [
    "del x, y # 删除x,y的引用"
   ]
  },
  {
   "cell_type": "code",
   "execution_count": 4,
   "id": "14ee9194-3a67-4e1c-9c16-6989fed0824f",
   "metadata": {},
   "outputs": [
    {
     "name": "stdout",
     "output_type": "stream",
     "text": [
      "Variable   Type      Data/Info\n",
      "------------------------------\n",
      "np         module    <module 'numpy' from 'E:\\<...>ges\\\\numpy\\\\__init__.py'>\n"
     ]
    }
   ],
   "source": [
    "%whos \n",
    "# 是 IPython/Jupyter Notebook 中的一个魔法命令（Magic Command）\n",
    "#用于=列出当前交互式命名空间中的所有变量，并显示它们的名称、类型、值和内存占用等详细信息。"
   ]
  },
  {
   "cell_type": "code",
   "execution_count": 5,
   "id": "e2169824-27ba-4c77-945f-823a8e625c74",
   "metadata": {},
   "outputs": [
    {
     "name": "stdout",
     "output_type": "stream",
     "text": [
      "['x_axis', 'y_axis']\n"
     ]
    }
   ],
   "source": [
    "load_xy = np.load(\"x_y-squared.npz\") # 这里np.load()仅仅能加载savez保持的文件\n",
    "print(load_xy.files) # 可以推断出load_xy中files的属性显示的其中存了哪些数组，通过数组名来进行显示"
   ]
  },
  {
   "cell_type": "code",
   "execution_count": 6,
   "id": "92713657-ca26-4b30-9818-12b76e6f3342",
   "metadata": {},
   "outputs": [
    {
     "name": "stdout",
     "output_type": "stream",
     "text": [
      "Variable   Type       Data/Info\n",
      "-------------------------------\n",
      "load_xy    NpzFile    NpzFile 'x_y-squared.npz'<...>with keys: x_axis, y_axis\n",
      "np         module     <module 'numpy' from 'E:\\<...>ges\\\\numpy\\\\__init__.py'>\n"
     ]
    }
   ],
   "source": [
    "%whos"
   ]
  },
  {
   "cell_type": "code",
   "execution_count": 7,
   "id": "571ab828-a483-4a37-b4f7-d8ef55b1b6e1",
   "metadata": {},
   "outputs": [
    {
     "name": "stdout",
     "output_type": "stream",
     "text": [
      "[0 1 2 3 4 5 6 7 8 9]\n",
      "[ 0  1  4  9 16 25 36 49 64 81]\n"
     ]
    }
   ],
   "source": [
    "x = load_xy[\"x_axis\"] # 直接通过\n",
    "y = load_xy[\"y_axis\"]\n",
    "print(x)\n",
    "print(y)"
   ]
  },
  {
   "cell_type": "code",
   "execution_count": 12,
   "id": "8eda944b-2edb-40b5-8e86-54cf6a79476e",
   "metadata": {},
   "outputs": [
    {
     "name": "stdout",
     "output_type": "stream",
     "text": [
      "the output array has shape  (10, 2)  with values:\n",
      "[[ 0  0]\n",
      " [ 1  1]\n",
      " [ 2  4]\n",
      " [ 3  9]\n",
      " [ 4 16]\n",
      " [ 5 25]\n",
      " [ 6 36]\n",
      " [ 7 49]\n",
      " [ 8 64]\n",
      " [ 9 81]]\n"
     ]
    }
   ],
   "source": [
    "array_out = np.block([x[:, np.newaxis], y[:, np.newaxis]]) \n",
    "# x[:, np.newaxis]是将一维的x变为二维的矩阵，且第一列是x，但是后续的列都是空的。\n",
    "# 类似与行向量转为列向量，但是为了让其成为矩阵需要对其添加新的axis，而且还需要其他值设为空\n",
    "# block是将块矩阵进行拼接，\n",
    "print(\"the output array has shape \", array_out.shape, \" with values:\")\n",
    "print(array_out)"
   ]
  },
  {
   "cell_type": "code",
   "execution_count": 16,
   "id": "a34cd522-512c-4e6d-91fc-91299c90f166",
   "metadata": {},
   "outputs": [],
   "source": [
    "np.savetxt(\"x_y-squared.csv\", X=array_out, header=\"x, y\",delimiter=\",\")\n",
    "# 注意与np.save的区别即可，其中X=是需要输入的数组，X是不能变得，它就是待定的参数"
   ]
  },
  {
   "cell_type": "code",
   "execution_count": 19,
   "id": "efaa5254-b6ae-47cd-b344-3429e3cdba02",
   "metadata": {},
   "outputs": [],
   "source": [
    "del x, y"
   ]
  },
  {
   "cell_type": "code",
   "execution_count": 22,
   "id": "843484f9-67bf-4991-a445-abd64342c835",
   "metadata": {},
   "outputs": [],
   "source": [
    "load_xy = np.loadtxt(\"x_y-squared.csv\", delimiter=\",\")\n",
    "# 注意与np.load的区别，同时还要传入该文件的分隔符"
   ]
  },
  {
   "cell_type": "code",
   "execution_count": 25,
   "id": "09810bfd-14bb-4830-8bdc-e6faea435ba8",
   "metadata": {},
   "outputs": [
    {
     "data": {
      "text/plain": [
       "dtype('float64')"
      ]
     },
     "execution_count": 25,
     "metadata": {},
     "output_type": "execute_result"
    }
   ],
   "source": [
    "load_xy.shape\n",
    "load_xy.dtype\n",
    "# 可以看出是直接将csv文件读取为一个2dims的数组"
   ]
  },
  {
   "cell_type": "code",
   "execution_count": 24,
   "id": "31aeb442-bd21-40f8-ae05-70077a7038e1",
   "metadata": {},
   "outputs": [
    {
     "name": "stdout",
     "output_type": "stream",
     "text": [
      "[0. 1. 2. 3. 4. 5. 6. 7. 8. 9.]\n",
      "[ 0.  1.  4.  9. 16. 25. 36. 49. 64. 81.]\n"
     ]
    }
   ],
   "source": [
    "x = load_xy[:, 0]\n",
    "y = load_xy[:, 1]\n",
    "print(x)\n",
    "print(y)"
   ]
  },
  {
   "cell_type": "code",
   "execution_count": null,
   "id": "72ab1c02-1911-425c-9c5b-1bc2b4351003",
   "metadata": {},
   "outputs": [],
   "source": []
  }
 ],
 "metadata": {
  "kernelspec": {
   "display_name": "Python 3 (ipykernel)",
   "language": "python",
   "name": "python3"
  },
  "language_info": {
   "codemirror_mode": {
    "name": "ipython",
    "version": 3
   },
   "file_extension": ".py",
   "mimetype": "text/x-python",
   "name": "python",
   "nbconvert_exporter": "python",
   "pygments_lexer": "ipython3",
   "version": "3.10.16"
  }
 },
 "nbformat": 4,
 "nbformat_minor": 5
}
